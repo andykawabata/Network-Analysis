{
 "cells": [
  {
   "cell_type": "code",
   "execution_count": 100,
   "metadata": {},
   "outputs": [],
   "source": [
    "import networkx \n",
    "import random\n",
    "import numpy as np\n",
    "import matplotlib.pyplot as plt"
   ]
  },
  {
   "cell_type": "code",
   "execution_count": 106,
   "metadata": {},
   "outputs": [
    {
     "name": "stdout",
     "output_type": "stream",
     "text": [
      "[[0 0 0 ... 0 0 0]\n",
      " [0 0 0 ... 0 1 0]\n",
      " [0 0 0 ... 0 0 0]\n",
      " ...\n",
      " [0 0 0 ... 0 0 0]\n",
      " [0 1 0 ... 0 0 0]\n",
      " [0 0 0 ... 0 0 0]]\n"
     ]
    }
   ],
   "source": [
    "rounds  = 1000\n",
    "N = 1000     #total population\n",
    "p = .01      #probability that 2 nodes (people) are connected\n",
    "gamma = .05  #probability that someone comes in contact with one of their connections\n",
    "beta = .05   #probability of infection if in contact\n",
    "\n",
    "#generate G(n,p)\n",
    "G = networkx.binomial_graph(N, p)\n",
    "adj_matrix = networkx.linalg.graphmatrix.adjacency_matrix(G).todense()\n",
    "print(adj_matrix)"
   ]
  },
  {
   "cell_type": "code",
   "execution_count": 110,
   "metadata": {},
   "outputs": [],
   "source": [
    "def simulator(rounds, N, gamma, beta, adj_matrix):\n",
    "    infected = np.zeros((N,),dtype=int) # Array of Healthy people\n",
    "    infected[1]=1 # 1st person in the Array of healthy people gets infected\n",
    "    total_infected = np.zeros(rounds) # Array to monitor the total number of infected people in each round\n",
    "    sick = 1\n",
    "    healthy= N - sick\n",
    "    for i in range(rounds):\n",
    "        infected_index_list = np.nonzero(infected)[0]   #To find the index of the people who are infected\n",
    "        for index in infected_index_list:    #To Check if the peorson who is infected is still infectious at each round \n",
    "            prob_array = np.asarray(adj_matrix[index]) * np.random.rand(N) #get row in adj matrix of infected person and assign rand nums to their connections\n",
    "            new_infected_indices = np.where((prob_array <= (beta*gamma)) & (prob_array != 0))[1] #find indices that match these conditions, they become infected\n",
    "            for j in new_infected_indices:\n",
    "                if(infected[j]==0):                    # if the person is healthy and his prob<=infectionrate infect the person\n",
    "                    infected[j] = 1\n",
    "                    sick = sick+1\n",
    "                    healthy=healthy-1\n",
    "        #print(\"number of infected people in round \",i,\"is \",sick)\n",
    "        total_infected[i]= np.sum(infected)    \n",
    "    return total_infected"
   ]
  },
  {
   "cell_type": "code",
   "execution_count": 111,
   "metadata": {},
   "outputs": [],
   "source": [
    "infected = simulator(rounds, N, gamma, beta, adj_matrix)"
   ]
  },
  {
   "cell_type": "code",
   "execution_count": 112,
   "metadata": {},
   "outputs": [
    {
     "data": {
      "image/png": "[encoded data removed]",
      "text/plain": [
       "<Figure size 432x288 with 1 Axes>"
      ]
     },
     "metadata": {
      "needs_background": "light"
     },
     "output_type": "display_data"
    }
   ],
   "source": [
    "plt.plot(infected)\n",
    "plt.ylabel('Total Infected')\n",
    "plt.xlabel('Rounds')\n",
    "plt.show()"
   ]
  }
 ],
 "metadata": {
  "kernelspec": {
   "display_name": "Python 3",
   "language": "python",
   "name": "python3"
  },
  "language_info": {
   "codemirror_mode": {
    "name": "ipython",
    "version": 3
   },
   "file_extension": ".py",
   "mimetype": "text/x-python",
   "name": "python",
   "nbconvert_exporter": "python",
   "pygments_lexer": "ipython3",
   "version": "3.7.4"
  }
 },
 "nbformat": 4,
 "nbformat_minor": 2
}

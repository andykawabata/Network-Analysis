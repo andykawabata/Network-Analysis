{
 "cells": [
  {
   "cell_type": "code",
   "execution_count": 3,
   "metadata": {},
   "outputs": [],
   "source": [
    "import random \n",
    "import numpy as np\n",
    "import matplotlib.pyplot as  plt"
   ]
  },
  {
   "cell_type": "code",
   "execution_count": 31,
   "metadata": {},
   "outputs": [],
   "source": [
    "# rounds : Number of rounds to be implemented\n",
    "# N      : Total number of people\n",
    "# alpha  : Each infected individual may come into contact with 0<=alpha<=1 ratio of all people in each round of\n",
    "#          infection\n",
    "# beta   : Each contact between an infected individual and a healthy individual has a chance of 0<=beta<=1 that\n",
    "#          the healthy individual will be infected\n",
    "# T1     : Number of rounds infected person stays infectious\n",
    "# T2     : Number of rounds each immune person stays so, after which s/he may be infected again.\n",
    "\n",
    "\n",
    "\n",
    "def simulator(rounds, N, alpha, beta, T1, T2):\n",
    "    infected = np.zeros((N,),dtype=int) # Array of Healthy people\n",
    "    infected[1]=1 # 1st person in the Array of healthy people gets infected\n",
    "    infectious = infected*T1 #keeping the count of T1 \n",
    "    R_0 = np.zeros(rounds) #Array to monitor R_0\n",
    "    total_infected = np.zeros(rounds) # Array to monitor the total number of infected people in each round\n",
    "    sick = 1\n",
    "    healthy= N - sick\n",
    "    for i in range(rounds):\n",
    "        infected_index_list = np.nonzero(infected)[0]   #To find the index of the people who are infected\n",
    "        for index in infected_index_list:\n",
    "            if((infectious[index]>=i) and (healthy>0)):    #To Check if the peorson who is infected is still infectious at each round \n",
    "                prob = np.random.rand(N) <= (alpha*beta)   # Randomly generate uniform distribution of numbers between 0 and 1 to measure the probility of infection spread and check if its <= infectionrate(alpha*beta)\n",
    "                prob_infected_index = np.nonzero(prob)[0]  #Get index of the elements that satisfy the prob<= infectionrate\n",
    "                for j in prob_infected_index:\n",
    "                    if(infected[j]==0):                    # if the person is healthy and his prob<=infectionrate infect the person\n",
    "                        infected[j] = 1\n",
    "                        infectious[j] = i+T1               # make person onfectious for T1 rounds\n",
    "                        R_0[i]+=1\n",
    "                        sick = sick+1\n",
    "                        healthy=healthy-1\n",
    "            if(infectious[index]+T2 <=i):                  # To check the condition that the infectious person becomes immune for T2 rounds\n",
    "                infected[index] = 0                        # After T2 rounds make the person healthy again  \n",
    "                sick = sick-1\n",
    "                healthy=healthy+1\n",
    "        print(\"number of infected people in round \",i,\"is \",sick)\n",
    "        total_infected[i]= np.sum(infected)                \n",
    "\n",
    "    return (total_infected,R_0)"
   ]
  },
  {
   "cell_type": "code",
   "execution_count": null,
   "metadata": {},
   "outputs": [],
   "source": [
    "#Question 5 \n",
    "rounds=2000\n",
    "N=1000\n",
    "alpha=0.005\n",
    "beta= 0.01\n",
    "T1=2000 #Once infected a person stays infected forever\n",
    "T2=2000 #Once infected a person is immune forever \n",
    "(total_infected, R_0) = simulator(rounds, N, alpha, beta, T1, T2)"
   ]
  },
  {
   "cell_type": "code",
   "execution_count": 29,
   "metadata": {},
   "outputs": [],
   "source": [
    "#prob = np.random.rand(N) <= (alpha*beta)   # Randomly generate uniform distribution of numbers between 0 and 1 to measure the probility of infection spread and check if its <= infectionrate(alpha*beta)\n",
    "#prob_infected_index = np.nonzero(prob)[0] "
   ]
  },
  {
   "cell_type": "code",
   "execution_count": null,
   "metadata": {},
   "outputs": [],
   "source": []
  }
 ],
 "metadata": {
  "kernelspec": {
   "display_name": "Python 3",
   "language": "python",
   "name": "python3"
  },
  "language_info": {
   "codemirror_mode": {
    "name": "ipython",
    "version": 3
   },
   "file_extension": ".py",
   "mimetype": "text/x-python",
   "name": "python",
   "nbconvert_exporter": "python",
   "pygments_lexer": "ipython3",
   "version": "3.7.4"
  }
 },
 "nbformat": 4,
 "nbformat_minor": 2
}

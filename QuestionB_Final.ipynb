{
 "cells": [
  {
   "cell_type": "code",
   "execution_count": 9,
   "metadata": {},
   "outputs": [],
   "source": [
    "import networkx \n",
    "import random\n",
    "import numpy as np\n",
    "import matplotlib.pyplot as plt\n",
    "#Total number of rounds for simulation\n",
    "rounds = 1000\n",
    "\n",
    "# Total population \n",
    "N = 1000\n",
    "\n",
    "#Probability of connection between 2 people in population\n",
    "P = .01 \n",
    "\n",
    "#Probabilty of contact with a predefined connection\n",
    "gamma = .05\n",
    "\n",
    "#probability of infection give contact with an infected person\n",
    "beta = .05\n",
    "\n",
    "#Portion of population vaccinated for test 1\n",
    "V1 = .85\n",
    "\n",
    "#Portion of population vaccinated for test 2\n",
    "V2 = .5\n",
    "#Generate G(n,p)\n",
    "G = networkx.binomial_graph(N, P)\n",
    "adj_matrix = networkx.linalg.graphmatrix.adjacency_matrix(G).todense()"
   ]
  },
  {
   "cell_type": "code",
   "execution_count": 10,
   "metadata": {},
   "outputs": [],
   "source": [
    "def getCounts(infected, isHealthy):\n",
    "    healthy = 0\n",
    "    sick = 0   \n",
    "    for ea in infected:       \n",
    "        if (infected[ea] > 0):\n",
    "            sick +=1\n",
    "        else:\n",
    "            healthy +=1\n",
    "    if(isHealthy):\n",
    "        return healthy\n",
    "    else:        \n",
    "        return sick "
   ]
  },
  {
   "cell_type": "code",
   "execution_count": 11,
   "metadata": {},
   "outputs": [],
   "source": [
    "def VaccinatePop(vacNum, arr, N):\n",
    "    immune = 0\n",
    "    for i in range(vacNum):\n",
    "        makeImmune = random.randint(0, N-1)\n",
    "        \n",
    "        arr[makeImmune] = -1\n",
    "        healthy = getCounts(arr, True)\n",
    "        sick = getCounts(arr, False)\n",
    "        immune += 1\n",
    "        #print(\"Healthy count for vaccination round \" + str(i)+ \" is: \"+ str(healthy))\n",
    "        #print(\"Sick count for vaccination round \" + str(i)+ \" is: \"+ str(sick))\n",
    "        #print(\"immune count for vaccination round \" + str(i)+ \" is: \"+ str(immune))\n",
    "    return arr"
   ]
  },
  {
   "cell_type": "code",
   "execution_count": 12,
   "metadata": {},
   "outputs": [],
   "source": [
    "def graphics(data):\n",
    "    plt.plot(data)\n",
    "    plt.ylabel('Total Infected')\n",
    "    plt.xlabel('Rounds')\n",
    "    plt.show()\n",
    "    return"
   ]
  },
  {
   "cell_type": "code",
   "execution_count": 13,
   "metadata": {},
   "outputs": [],
   "source": [
    "def simulator(rounds, N, gamma, beta, adj_matrix):\n",
    "    infected = np.zeros((N,),dtype=int) # Array of Healthy people\n",
    "    infected[1]=1 # 1st person in the Array of healthy people gets infected\n",
    "    total_infected = np.zeros(rounds) # Array to monitor the total number of infected people in each round\n",
    "    sick = 1\n",
    "    healthy= N - sick\n",
    "    for i in range(rounds):\n",
    "        infected_index_list = np.nonzero(infected)[0]   #To find the index of the people who are infected\n",
    "        for index in infected_index_list:    #To Check if the peorson who is infected is still infectious at each round \n",
    "            prob_array = np.asarray(adj_matrix[index]) * np.random.rand(N) #get row in adj matrix of infected person and assign rand nums to their connections            \n",
    "            new_infected_indices = np.where((prob_array <= (beta*gamma)) & (prob_array != 0))[1] #find indices that match these conditions, they become infected\n",
    "            for j in new_infected_indices:\n",
    "                if(infected[j]==0):                    # if the person is healthy and his prob<=infectionrate infect the person\n",
    "                    infected[j] = 1\n",
    "                    sick = sick+1\n",
    "                    healthy=healthy-1\n",
    "        #print(\"number of infected people in round \",i,\"is \",sick)\n",
    "        total_infected[i]= np.sum(infected)\n",
    "    print(\"Graphing data from Simulator\")\n",
    "    graphics(total_infected)\n",
    "    return total_infected"
   ]
  },
  {
   "cell_type": "code",
   "execution_count": 14,
   "metadata": {},
   "outputs": [],
   "source": [
    "def QuestionB(rounds, N, gamma, beta, adj_matrix, V):      \n",
    "\n",
    "    #Effectiveness rate of vaccine\n",
    "    theta = .4\n",
    "    #round when vaccine introduced to population\n",
    "    T3= 3\n",
    "    # Array of Healthy people in population \n",
    "    infected = np.zeros((N,),dtype=int)\n",
    "    # 1st person in the Array of healthy people gets infected \n",
    "    infected[1] = 1 \n",
    "    # Array to monitor the total number of infected people in each round\n",
    "    total_infected = np.zeros(rounds)\n",
    "    #current number of sick people in population \n",
    "    sick = 1\n",
    "    #Current number of healthy people in population\n",
    "    healthy= N - sick\n",
    "    #Current Number of immune people in population \n",
    "    immune = 0\n",
    "    #Number of people who are vaccinated in the population\n",
    "    vaccinated =int( (V * theta) * N)\n",
    "    #\n",
    "    for i in range(T3):\n",
    "        infected_index_list = np.nonzero(infected)[0]\n",
    "\n",
    "         #To Check if the peorson who is infected is still infectious at each round\n",
    "        for index in infected_index_list:\n",
    "\n",
    "            #get row in adj matrix of infected person and assign rand nums to their connections\n",
    "            prob_array = np.asarray(adj_matrix[index]) * np.random.rand(N) \n",
    "\n",
    "            #find indices that match these conditions, they become infected\n",
    "            new_infected_indices = np.where((prob_array <= (beta*gamma)) & (prob_array != 0))[1] \n",
    "\n",
    "            # if the person is healthy and his prob<=infectionrate infect the person- unindented in mine check with andy\n",
    "            for j in new_infected_indices:\n",
    "                if(infected[j]==0):                   \n",
    "                    infected[j] = 1\n",
    "                    sick = sick+1\n",
    "                    healthy=healthy-1            \n",
    "            #print(\"IN T3: number of infected people in round \",str(i+1),\"is \",sick)\n",
    "            total_infected[i]= sick \n",
    "    #print(\"before t3\",total_infected[2])\n",
    "    #print(\"Number of people to be vaccinated in this population: \",vaccinated)\n",
    "    infected = VaccinatePop(vaccinated, infected, N)\n",
    "    healthy = getCounts(infected, True)\n",
    "    sick = getCounts(infected, False)\n",
    "    \n",
    "    #print(\"revised H count\", healthy)\n",
    "    #print(\"revised S count\", sick) \n",
    "    \n",
    "    for i in range(T3, rounds):\n",
    "        infected_index_list = np.nonzero(infected)[0]\n",
    "\n",
    "        #To Check if the peorson who is infected is still infectious at each round\n",
    "        for index in infected_index_list:\n",
    "            #get row in adj matrix of infected person and assign rand nums to their connections\n",
    "            prob_array = np.asarray(adj_matrix[index]) * np.random.rand(N) \n",
    "\n",
    "            #find indices that match these conditions, they become infected- change to account for Immune?\n",
    "            new_infected_indices = np.where((prob_array <= (beta*gamma)) & (prob_array != 0))[1] \n",
    "\n",
    "            # if the person is healthy and his prob<=infectionrate infect the person\n",
    "            for j in new_infected_indices:\n",
    "                if(infected[j]==0):\n",
    "                    infected[j] = 1\n",
    "                    sick = sick+1\n",
    "                    healthy= healthy-1        \n",
    "            #print(\"AFTER T3 number of infected people in round \",str(i+1),\"is \",sick)\n",
    "        total_infected[i]= sick\n",
    "    \n",
    "    #print(\"after t3\",total_infected[-1])\n",
    "   \n",
    "    #print(\"Graphing data from Question B\")\n",
    "    graphics(total_infected)\n",
    "    #plt.plot(total_infected)\n",
    "    #plt.ylabel('Infections')\n",
    "    #plt.xlabel('Rounds')\n",
    "    #plt.show()\n",
    "    return total_infected"
   ]
  },
  {
   "cell_type": "code",
   "execution_count": 18,
   "metadata": {},
   "outputs": [
    {
     "name": "stdout",
     "output_type": "stream",
     "text": [
      "Question b part 1\n"
     ]
    },
    {
     "data": {
      "image/png": "[encoded data removed]",
      "text/plain": [
       "<Figure size 432x288 with 1 Axes>"
      ]
     },
     "metadata": {
      "needs_background": "light"
     },
     "output_type": "display_data"
    }
   ],
   "source": [
    "#Question_A = simulator(rounds, N, gamma, beta, adj_matrix)    \n",
    "print(\"Question b part 1\")\n",
    "#question_B = QuestionB(rounds, N, gamma, beta, adj_matrix, V1 )\n",
    "#print(\"Question b part 2\")\n",
    "question_B_v2 = QuestionB(rounds, N, gamma, beta, adj_matrix, .95 )\n"
   ]
  },
  {
   "cell_type": "code",
   "execution_count": null,
   "metadata": {},
   "outputs": [],
   "source": []
  },
  {
   "cell_type": "code",
   "execution_count": null,
   "metadata": {},
   "outputs": [],
   "source": []
  }
 ],
 "metadata": {
  "kernelspec": {
   "display_name": "Python 3",
   "language": "python",
   "name": "python3"
  },
  "language_info": {
   "codemirror_mode": {
    "name": "ipython",
    "version": 3
   },
   "file_extension": ".py",
   "mimetype": "text/x-python",
   "name": "python",
   "nbconvert_exporter": "python",
   "pygments_lexer": "ipython3",
   "version": "3.8.3"
  }
 },
 "nbformat": 4,
 "nbformat_minor": 4
}
